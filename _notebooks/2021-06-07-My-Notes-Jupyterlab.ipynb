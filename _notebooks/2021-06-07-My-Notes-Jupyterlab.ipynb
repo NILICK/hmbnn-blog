{
 "cells": [
  {
   "cell_type": "markdown",
   "metadata": {},
   "source": [
    "# My notes in Jupyterlab working\n",
    "> This post is about notes from my experineces in work with Jupyterlab\n",
    "\n",
    "- toc: true\n",
    "- badges: true\n",
    "- comments: true\n",
    "- categories: [jupyterlab, notes]\n",
    "- image: images/jupyterlab.png"
   ]
  },
  {
   "cell_type": "markdown",
   "metadata": {},
   "source": [
    "## Jupyterlab spellchecker\n",
    "\n",
    "install:\n",
    "\n",
    "jupyter labextension install @ijmbarr/jupyterlab_spellchecker"
   ]
  },
  {
   "cell_type": "markdown",
   "metadata": {},
   "source": [
    "## Uninstall full program"
   ]
  },
  {
   "cell_type": "markdown",
   "metadata": {},
   "source": [
    "sudo apt-get purge package-name\n",
    "\n",
    "sudo apt-get autoremove"
   ]
  },
  {
   "cell_type": "markdown",
   "metadata": {},
   "source": [
    "## Install fonts"
   ]
  },
  {
   "cell_type": "markdown",
   "metadata": {},
   "source": [
    "sudo apt install git\n",
    "\n",
    "git clone https://github.com/fzerorubigd/persian-fonts-linux.git\n",
    "    \n",
    "cd persian-fonts-linux\n",
    "\n",
    "./farsifonts.sh"
   ]
  },
  {
   "cell_type": "markdown",
   "metadata": {},
   "source": [
    "## Show disk space"
   ]
  },
  {
   "cell_type": "markdown",
   "metadata": {},
   "source": [
    "df -h"
   ]
  },
  {
   "cell_type": "markdown",
   "metadata": {},
   "source": [
    "## Clean Ubuntu"
   ]
  },
  {
   "cell_type": "markdown",
   "metadata": {},
   "source": [
    "sudo du -sh /var/cache/apt/archives\n",
    "\n",
    "sudo apt-get clean\n",
    "\n",
    "df -h"
   ]
  },
  {
   "cell_type": "markdown",
   "metadata": {},
   "source": [
    "## Install Miniconda"
   ]
  },
  {
   "cell_type": "markdown",
   "metadata": {},
   "source": [
    "> Best resources for install Anaconda or Miniconda with spatial packages*"
   ]
  },
  {
   "cell_type": "markdown",
   "metadata": {},
   "source": [
    "https://medium.com/@chrieke/howto-install-python-for-geospatial-applications-1dbc82433c05"
   ]
  },
  {
   "cell_type": "markdown",
   "metadata": {},
   "source": [
    "Download miniconda python 3.7 (some packages do not work with python 3.8)\n",
    "https://repo.anaconda.com/miniconda/Miniconda3-py37_4.8.3-Linux-x86_64.sh"
   ]
  },
  {
   "cell_type": "markdown",
   "metadata": {},
   "source": [
    "To install Miniconda on Ubuntu 20.04 from command line,\n",
    "it only takes 3 steps excluding creating and activating a conda environment."
   ]
  },
  {
   "cell_type": "markdown",
   "metadata": {},
   "source": [
    "1-Download the latest shell script\n",
    "*wget https://repo.anaconda.com/miniconda/Miniconda3-py37_4.8.3-Linux-x86_64.sh*\n",
    "\n",
    "2-Make the miniconda installation script executable:\n",
    "*chmod +x Miniconda3-py37_4.8.3-Linux-x86_64.sh*\n",
    "\n",
    "3-Run miniconda installation script:\n",
    "*./Miniconda3-py37_4.8.3-Linux-x86_64.sh*"
   ]
  },
  {
   "cell_type": "markdown",
   "metadata": {},
   "source": [
    "## Create and activate the conda environment"
   ]
  },
  {
   "cell_type": "markdown",
   "metadata": {},
   "source": [
    "To create a conda environment, run conda create -n newenv\n",
    "\n",
    "You can also create the environment from a file like *environment.yml*, you can use use the conda env create -f command:\n",
    "> conda env create -f environment.yml\n",
    "\n",
    "The environment name will be the directory name."
   ]
  },
  {
   "cell_type": "markdown",
   "metadata": {},
   "source": [
    "## Install Packages"
   ]
  },
  {
   "cell_type": "markdown",
   "metadata": {},
   "source": [
    "- Install miniconda\n",
    "- Anaconda Prompt (miniconda3)[Open miniconda]\n",
    "- conda update -n base -c defaults conda [Update Conda installed]\n",
    "- conda install -c anaconda anaconda-navigator [Install Navigator]\n",
    "- Open Anaconda Navigator\n",
    "- Open terminal\n",
    "- conda install -c conda-forge gdal [Install GDAL]\n",
    "- conda install -c anaconda numpy\n",
    "- conda install -c anaconda pandas\n",
    "- conda install -c conda-forge geopandas\n",
    "- conda install -c anaconda xarray\n",
    "- conda install -c conda-forge matplotlib\n",
    "- conda install -c conda-forge cartopy\n",
    "- conda install -c conda-forge descartes [for countries plot in cartopy]\n",
    "- conda install -c conda-forge shapely\n",
    "- conda install -c conda-forge fiona\n",
    "- conda install -c conda-forge pyproj\n",
    "- conda install -c conda-forge bqplot\n",
    "- conda install -c conda-forge ipyleaflet\n",
    "- conda install -c conda-forge nodejs\n",
    "> npm install npm@latest -g [https://nodejs.org/en/]\n",
    "\n",
    "- conda list"
   ]
  },
  {
   "cell_type": "markdown",
   "metadata": {},
   "source": [
    "## Install Jupyterlab"
   ]
  },
  {
   "cell_type": "markdown",
   "metadata": {},
   "source": [
    "-conda install -c conda-forge jupyterlab\n",
    "\n",
    "-In terminal type: jupyter lab [Open jupyterlab in default browser]\n",
    "\n",
    "-Ctrl+C or Ctrl+Conda [Close]\n",
    "\n",
    "-jupyter notebook --generate-config [Change Workdirectory]\n",
    "\n",
    "``` \n",
    "open \"jupyter_notebook_config.py\" file\n",
    "Find \" #c.NotebookApp.notebook_dir=' ' \"\n",
    "Change to \" c.NotebookApp.notebook_dir = '~/Anaconda_Projects' \"\n",
    "In terminal type: jupyter lab\n",
    "```"
   ]
  },
  {
   "cell_type": "markdown",
   "metadata": {},
   "source": [
    "## Install packages in Jupyterlab"
   ]
  },
  {
   "cell_type": "markdown",
   "metadata": {},
   "source": [
    "- jupyter labextension install @jupyter-widgets/jupyterlab-manager jupyter-leaflet\n",
    "\n",
    "(https://ipyleaflet.readthedocs.io/en/latest/api_reference/basemaps.html)\n",
    "\n",
    "-jupyter labextension install @jupyter-widgets/jupyterlab-manager\n",
    "\n",
    "-jupyter lab build\n",
    "\n",
    "-jupyter nbextension enable --py widgetsnbextension --sys-prefix\n",
    "\n",
    "-pip install sidecar\n",
    "\n",
    "-jupyter labextension install @jupyter-widgets/jupyterlab-manager\n",
    "\n",
    "-jupyter labextension install @jupyter-widgets/jupyterlab-sidecar\n",
    "\n",
    "-conda install -c pyviz holoviews bokeh\n",
    "\n",
    "> jupyter labextension install @pyviz/jupyterlab_pyviz"
   ]
  },
  {
   "cell_type": "markdown",
   "metadata": {},
   "source": [
    "## Install Rasterio"
   ]
  },
  {
   "cell_type": "markdown",
   "metadata": {},
   "source": [
    "rasterio package must be install with gdal, from \" https://www.lfd.uci.edu/~gohlke/pythonlibs/#gdal \" yuou can find last gdal and rasterio wheel files, then run something like this from the downloads folder:\n",
    "\n",
    "pip install GDAL-3.1.2-cp39-cp39-win_amd64.whl rasterio-1.1.5-cp39-cp39-win_amd64.whl\n",
    "\n",
    "conda install -c conda-forge rasterio\n",
    "> [with python 3.7 (rasterio works with this version)\n",
    "Rasterio 1.0.x works with Python versions 2.7.x and 3.5.0 through 3.7.x, and GDAL versions 1.11.x through 2.4.x. \n",
    "Rasterio 1.0.x is not compatible with GDAL versions 3.0.0 or greater.]"
   ]
  },
  {
   "cell_type": "markdown",
   "metadata": {},
   "source": [
    "-with the below command and after failed and failed, installed finally.</br>\n",
    "conda install -c https://conda.anaconda.org/ioos rasterio"
   ]
  },
  {
   "cell_type": "markdown",
   "metadata": {},
   "source": [
    "## Cartopy or Basemap"
   ]
  },
  {
   "cell_type": "markdown",
   "metadata": {},
   "source": [
    "Basemap is going away and being replaced with Cartopy in the near future. For this reason, new python learners are recommended to learn Cartopy.\n",
    "So, install cartopy.\n",
    "\n",
    "NOTE: DO NOT INSTALL cartopy with basemap, they are conflict."
   ]
  },
  {
   "cell_type": "markdown",
   "metadata": {},
   "source": [
    "## For UPDATE"
   ]
  },
  {
   "cell_type": "markdown",
   "metadata": {},
   "source": [
    "- pip uninstall -y setuptools\n",
    "\n",
    "- pip install setuptools\n",
    "\n",
    "- conda update conda\n",
    "\n",
    "- conda update -all\n",
    "\n",
    "- conda update -n base -c defaults conda"
   ]
  },
  {
   "cell_type": "markdown",
   "metadata": {},
   "source": [
    "## Run plotly in jupyterlab"
   ]
  },
  {
   "cell_type": "markdown",
   "metadata": {},
   "source": [
    "For use in Jupyter lab, you will have to install the plotly jupyterlab extension:\n",
    "\n",
    "jupyter labextension install jupyterlab-plotly\n",
    "\n",
    "OR\n",
    "\n",
    "jupyter labextension install @jupyterlab/plotly-extension\n",
    "\n",
    "jupyter labextension list\n",
    "\n",
    "jupyter lab build\n",
    "\n",
    "Then reopen anaconda jupyterlab"
   ]
  },
  {
   "cell_type": "markdown",
   "metadata": {},
   "source": [
    "## Persian fornt"
   ]
  },
  {
   "cell_type": "markdown",
   "metadata": {},
   "source": [
    "pip install python-bidi"
   ]
  },
  {
   "cell_type": "markdown",
   "metadata": {},
   "source": [
    "-lpympl"
   ]
  },
  {
   "cell_type": "markdown",
   "metadata": {},
   "source": [
    "## Markdown Formatting "
   ]
  },
  {
   "cell_type": "markdown",
   "metadata": {},
   "source": [
    "The five most important concepts to format your code appropriately when using markdown are:\n",
    "    \n",
    "1. *Italics*: Surround your text with '\\_' or '\\*'\n",
    "2. **Bold**: Surround your text with '\\__' or '\\**'\n",
    "3. `inline`: Surround your text with '\\`'\n",
    "4.  > blockquote: Place '\\>' before your text.\n",
    "5.  [Links](https://github.com/ncar-hackathons): Surround the text you want to link with '\\[\\]' and place the link adjacent to the text, surrounded with '()'\n"
   ]
  },
  {
   "cell_type": "markdown",
   "metadata": {},
   "source": [
    "### Headings"
   ]
  },
  {
   "cell_type": "markdown",
   "metadata": {},
   "source": [
    "Notice that including a hashtag before the text in a markdown cell makes the text a heading. The number of hashtags you include will determine the priority of the header ('#' is level one, '##' is level two, '###' is level three and '####' is level four)."
   ]
  },
  {
   "cell_type": "markdown",
   "metadata": {},
   "source": [
    "\n",
    "```no-highlight\n",
    "# H1\n",
    "## H2\n",
    "### H3\n",
    "#### H4\n",
    "##### H5\n",
    "###### H6\n",
    "\n",
    "Alternatively, for H1 and H2, an underline-ish style:\n",
    "\n",
    "Alt-H1\n",
    "======\n",
    "\n",
    "Alt-H2\n",
    "------\n",
    "```\n",
    "\n",
    "# H1\n",
    "## H2\n",
    "### H3\n",
    "#### H4\n",
    "##### H5\n",
    "###### H6\n",
    "\n",
    "Alternatively, for H1 and H2, an underline-ish style:\n",
    "\n",
    "Alt-H1\n",
    "======\n",
    "\n",
    "Alt-H2\n",
    "------\n",
    "\n",
    "<a name=\"emphasis\"/>\n",
    "\n",
    "### Emphasis\n",
    "\n",
    "```no-highlight\n",
    "Emphasis, aka italics, with *asterisks* or _underscores_.\n",
    "\n",
    "Strong emphasis, aka bold, with **asterisks** or __underscores__.\n",
    "\n",
    "Combined emphasis with **asterisks and _underscores_**.\n",
    "\n",
    "Strikethrough uses two tildes. ~~Scratch this.~~\n",
    "```\n",
    "\n",
    "Emphasis, aka italics, with *asterisks* or _underscores_.\n",
    "\n",
    "Strong emphasis, aka bold, with **asterisks** or __underscores__.\n",
    "\n",
    "Combined emphasis with **asterisks and _underscores_**.\n",
    "\n",
    "Strikethrough uses two tildes. ~~Scratch this.~~\n",
    "\n"
   ]
  },
  {
   "cell_type": "markdown",
   "metadata": {},
   "source": [
    "### Lists"
   ]
  },
  {
   "cell_type": "markdown",
   "metadata": {},
   "source": [
    "There are three types of lists in markdown.\n",
    "\n",
    "Ordered list:\n",
    "\n",
    "1. Step 1\n",
    "    2. Step 1B\n",
    "3. Step 3"
   ]
  },
  {
   "cell_type": "markdown",
   "metadata": {},
   "source": [
    "Unordered list\n",
    "\n",
    "* CESM-POP\n",
    "* CESM-MOM\n",
    "* CESM-CAM"
   ]
  },
  {
   "cell_type": "markdown",
   "metadata": {},
   "source": [
    "Task list\n",
    "\n",
    "- [x] Learn Jupyter Notebooks\n",
    "    - [x] Writing\n",
    "    - [x] Modes\n",
    "    - [x] Other Considerations\n",
    "- [ ] Submit Paper"
   ]
  },
  {
   "cell_type": "markdown",
   "metadata": {},
   "source": [
    "---\n",
    "\n",
    "**NOTE:**\n",
    "    \n",
    "Double click on each to see how they are built! \n",
    "\n",
    "---"
   ]
  },
  {
   "cell_type": "markdown",
   "metadata": {},
   "source": [
    "$-b \\pm \\sqrt{b^2 - 4ac} \\over 2a$\n",
    "$x = a_0 + \\frac{1}{a_1 + \\frac{1}{a_2 + \\frac{1}{a_3 + a_4}}}$\n",
    "$\\forall x \\in X, \\quad \\exists y \\leq \\epsilon$"
   ]
  },
  {
   "cell_type": "markdown",
   "metadata": {},
   "source": [
    "## Shortcuts and tricks"
   ]
  },
  {
   "cell_type": "markdown",
   "metadata": {},
   "source": [
    "### Command Mode Shortcuts"
   ]
  },
  {
   "cell_type": "markdown",
   "metadata": {},
   "source": [
    "There are a couple of useful keyboard shortcuts in `Command Mode` that you can leverage to make Jupyter Notebook faster to use. Remember that to switch back and forth between `Command Mode` and `Edit Mode` with <kbd>Esc</kbd> and <kbd>Enter</kbd>."
   ]
  },
  {
   "cell_type": "markdown",
   "metadata": {},
   "source": [
    "<kbd>m</kbd>: Convert cell to Markdown"
   ]
  },
  {
   "cell_type": "markdown",
   "metadata": {},
   "source": [
    "<kbd>y</kbd>: Convert cell to Code"
   ]
  },
  {
   "cell_type": "markdown",
   "metadata": {},
   "source": [
    "<kbd>D</kbd>+<kbd>D</kbd>: Delete cell"
   ]
  },
  {
   "cell_type": "markdown",
   "metadata": {},
   "source": [
    "<kbd>o</kbd>: Toggle between hide or show output"
   ]
  },
  {
   "cell_type": "markdown",
   "metadata": {},
   "source": [
    "<kbd>Shift</kbd>+<kbd>Arrow up/Arrow down</kbd>: Selects multiple cells. Once you have selected them you can operate on them like a batch (run, copy, paste etc)."
   ]
  },
  {
   "cell_type": "markdown",
   "metadata": {},
   "source": [
    "<kbd>Shift</kbd>+<kbd>M</kbd>: Merge selected cells."
   ]
  },
  {
   "cell_type": "markdown",
   "metadata": {},
   "source": [
    "<kbd>Shift</kbd>+<kbd>Tab</kbd>: [press once] Tells you which parameters to pass on a function\n",
    "\n",
    "<kbd>Shift</kbd>+<kbd>Tab</kbd>: [press three times] Gives additional information on the method"
   ]
  }
 ],
 "metadata": {
  "kernelspec": {
   "display_name": "Python 3",
   "language": "python",
   "name": "python3"
  },
  "language_info": {
   "codemirror_mode": {
    "name": "ipython",
    "version": 3
   },
   "file_extension": ".py",
   "mimetype": "text/x-python",
   "name": "python",
   "nbconvert_exporter": "python",
   "pygments_lexer": "ipython3",
   "version": "3.9.5"
  }
 },
 "nbformat": 4,
 "nbformat_minor": 4
}
