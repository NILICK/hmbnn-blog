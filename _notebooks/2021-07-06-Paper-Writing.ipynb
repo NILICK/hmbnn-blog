{
 "cells": [
  {
   "cell_type": "markdown",
   "id": "44d4156e-feec-42e4-9731-e431347b108d",
   "metadata": {},
   "source": [
    "# How to write a scientific paper?\n",
    "> This post is about writing a scientific paper.\n",
    "\n",
    "- toc: true\n",
    "- branch: master\n",
    "- badges: true\n",
    "- comments: true\n",
    "- categories: [writing, paper]\n",
    "- image: images/wrting.jpg\n",
    "- hide: false"
   ]
  },
  {
   "cell_type": "markdown",
   "id": "3e08bc15-4354-499f-bba4-43fce02e4bcd",
   "metadata": {},
   "source": [
    "# __Academic Writing from Paragraph to Essay__\n",
    "_by Doeothy E Zematch & Lisa A Rumisek_"
   ]
  },
  {
   "cell_type": "markdown",
   "id": "12b7a96e-30cf-4d08-b4a3-f675c563c49a",
   "metadata": {},
   "source": [
    "This book is a combination text and workbook.\n",
    "\n",
    "The course combines a process approach to writing with a pragmatic approach to teaching the basics of writing."
   ]
  },
  {
   "cell_type": "markdown",
   "id": "c6b6615f-f1f8-4cf4-a217-d2e9ccdb46fa",
   "metadata": {},
   "source": [
    "<img src=\"../images/diag1.png\">"
   ]
  },
  {
   "cell_type": "markdown",
   "id": "5892bb8d-31ce-4ae7-89db-1bac1dcad651",
   "metadata": {},
   "source": [
    "The introduction presents process writing.\n",
    "\n",
    "First work is recognising and identifying key writing structure from modal paragraphs and essays.\n",
    "\n",
    "The manipulation of structures in short, manageable tasks should be done next.\n",
    "\n",
    "Finally, it could be applied to own writing.\n",
    "\n",
    "Critical thinking is emphasized, because it causes aware of the impact of choice of words, sentences, and organisational techniques on the effectiveness of writing.\n",
    "\n",
    "The focus throughout on academic writing."
   ]
  },
  {
   "cell_type": "markdown",
   "id": "1de8d97a-340f-42ab-a425-48cdc9b1aa4b",
   "metadata": {},
   "source": [
    "__Unit 1-6:__ Analysing and writing the types of paragraphs that commonly occur on academic contexts.\n",
    "\n",
    "__Unit 7:__ Writing two-paragraph texts, in preparation for longer assignments.\n",
    "\n",
    "__Unit 8-11:__ Applying what learned about paragraphs to essay writing.\n",
    "\n",
    "__unit 12:__ Discussing strategies for timed essay writing, including understanding instructions, time-management techniques, and methods for organising information."
   ]
  },
  {
   "cell_type": "markdown",
   "id": "8bb92a7d-d0f7-4961-8813-d1f4487a629c",
   "metadata": {},
   "source": [
    "Academic writing in English may be different not only from academic writing in your own language, but even from other writing in English.\n",
    "\n",
    "___Me will learn how important the reader is to the writer, and how to express clearly and directly what I meant to communicate.___"
   ]
  },
  {
   "cell_type": "markdown",
   "id": "5caa49d7-978a-4fef-8f8b-9433aa1c4461",
   "metadata": {},
   "source": [
    "## __Introduction: Process Writing__"
   ]
  },
  {
   "cell_type": "markdown",
   "id": "035e4ec4-5693-47ea-9fec-74f17462020a",
   "metadata": {},
   "source": [
    "Words for understanding the writer process:\n",
    "\n",
    "__Step:__ one thing in a series of things you do\n",
    "\n",
    "__Topic:__ subject; what the piece of writing is about\n",
    "\n",
    "__Gather:__ to find and collect together\n",
    "\n",
    "__Organise:__ to arrange in a clear, logical way\n",
    "\n",
    "__Paragraph:__ a group of related sentences\n",
    "\n",
    "__Essay:__ a short piece of writing, at least three paragraphs long\n",
    "\n",
    "__Proofread:__ to check a piece of writing for errors\n",
    "\n",
    "__Edit:__ to change or correct a piece or writing"
   ]
  },
  {
   "cell_type": "markdown",
   "id": "47b7221d-a54e-4c04-809f-2d79a2600d0e",
   "metadata": {},
   "source": [
    "-------------------------------------------------------------"
   ]
  },
  {
   "cell_type": "markdown",
   "id": "bdbc9267-41d5-460d-b237-968648cdd20b",
   "metadata": {},
   "source": [
    "___The six steps of the writing process___"
   ]
  },
  {
   "cell_type": "markdown",
   "id": "5741836c-5abe-4fee-8a55-0688148d1f34",
   "metadata": {},
   "source": [
    "When we write we do more than just put words together to make sentences"
   ]
  },
  {
   "cell_type": "markdown",
   "id": "b65e5878-a441-47a9-b717-ed95db67caf4",
   "metadata": {},
   "source": [
    "<img src=\"../images/diag2.png\">"
   ]
  },
  {
   "cell_type": "markdown",
   "id": "441097c5-081c-42ad-9ccf-e3a6f3b23624",
   "metadata": {},
   "source": [
    "__1- Pre-writing has three steps:__"
   ]
  },
  {
   "cell_type": "markdown",
   "id": "03cab2ae-80c7-4245-b6a5-c312f9052c7b",
   "metadata": {},
   "source": [
    "<img src=\"../images/diag3.png\">"
   ]
  },
  {
   "cell_type": "markdown",
   "id": "f502c512-a776-41a5-b6c1-e88248470f69",
   "metadata": {},
   "source": [
    "__2- Drafting has one step includes:__"
   ]
  },
  {
   "cell_type": "markdown",
   "id": "32f3c6e8-392f-4188-8ba6-1e4342001628",
   "metadata": {},
   "source": [
    "__Step four (Write):__ Write your paragraph or essay from start to finish. \n",
    "\n",
    "Use your notes about your ideas and organisation."
   ]
  },
  {
   "cell_type": "markdown",
   "id": "dd1b7dcc-d1a8-40e1-ae0d-21aa9a889d73",
   "metadata": {},
   "source": [
    "__3- Reviewing and revising has one step includes:__\n",
    "\n",
    "__Step five(Review structure and content):__ Check what you have written.\n",
    "\n",
    "Read your writing silently to yourself or aloud.\n",
    "\n",
    "Look for places where you can add more information, and check to see if you have any unnecessary information.\n",
    "\n",
    "Getting a reader's opinion is a good way to know if your writing is clear and effective."
   ]
  },
  {
   "cell_type": "markdown",
   "id": "f77afb8d-afea-4547-851e-cae5d93d4175",
   "metadata": {},
   "source": [
    "__4- Rewriting has one step includes:__\n",
    "\n",
    "__Step six(Revise structure and content):__ Use your ideas from step five to rewrite your text, making improvements to structure and content. \n",
    "\n",
    "You might need to explain something more clearly, or add more details.\n",
    "\n",
    "You may even need to change your organisation so that your text is more logical.\n",
    "\n",
    "_Together, step 5 and 6 can be called editing._"
   ]
  },
  {
   "cell_type": "markdown",
   "id": "17d876db-4ec0-4fb3-9c2e-2c794d59b4a4",
   "metadata": {},
   "source": [
    "__Proofread:__ Read your text again and check your spelling and grammar and think about the words you have chosen to use."
   ]
  },
  {
   "cell_type": "markdown",
   "id": "3b551f9c-6c88-41b2-a2c3-d45155f3ba23",
   "metadata": {},
   "source": [
    "__Make final correction:__ Check that you have corrected the errors you discovered in steps 5 and 6 and make other changes you want to make."
   ]
  },
  {
   "cell_type": "markdown",
   "id": "0a7816dd-d655-4c7e-bd10-bcac261a43d8",
   "metadata": {},
   "source": [
    "## __Pre-Writing: Getting Ready to Write__"
   ]
  },
  {
   "cell_type": "markdown",
   "id": "8b753590-5614-4d1c-a680-afd124abe7f3",
   "metadata": {},
   "source": [
    "How to:\n",
    "\n",
    "        - choose and narrow a topic\n",
    "        - gather ideas\n",
    "        - edit ideas"
   ]
  },
  {
   "cell_type": "markdown",
   "id": "62134ddc-c94c-4dc7-be8e-66e865449be0",
   "metadata": {},
   "source": [
    "__What is pre-writing?__\n",
    "\n",
    "Before you begin writing, you decide what you are going to write about.\n",
    "\n",
    "Then you plan what you are going to write.\n",
    "\n",
    "This process is called pre-writing."
   ]
  },
  {
   "cell_type": "markdown",
   "id": "2746d7fe-68d5-4d21-9e76-ac69ee5993cc",
   "metadata": {},
   "source": [
    "__How to choose a topic for a paragraph?__\n",
    "\n",
    "A ___paragraph___ is a group of ___five to ten sentences___ that give information about a topic.\n",
    "\n",
    "__Choose a topic that isn't:__\n",
    "\n",
    "    - too narrow (limited, brief).\n",
    "    - too broad (general).\n"
   ]
  },
  {
   "cell_type": "markdown",
   "id": "903e939b-fc0c-439f-b627-e7372152116d",
   "metadata": {},
   "source": [
    "A ___narrow topic___ will not have enough ideas to write about.(For example ages of my parents)\n",
    "\n",
    "A ___broad topic___ will have too many ideas for just one paragraph. Most paragraphs are ___five to ten sentences long___. (For example schools)"
   ]
  },
  {
   "cell_type": "markdown",
   "id": "5c7c79db-cc67-4ea2-85ea-b812f6464786",
   "metadata": {},
   "source": [
    "__What is brainstorming?__"
   ]
  },
  {
   "cell_type": "markdown",
   "id": "7cc46ce7-488e-465e-afc9-d6b3fcfd6343",
   "metadata": {},
   "source": [
    "Brainstorming is ___a way of gathering ideas__ about a topic.\n",
    "\n",
    "In brainstorming thousands of ideas 'raining' down onto your paper!\n",
    "\n",
    "When you brainstorm, ___write down every idea___ that comes to you.\n",
    "\n",
    "___Don't worry___ now about whether the ideas are good or silly, useful or not.\n",
    "\n",
    "You can ___decide that later___. Right ___now___, you are gathering as many ideas as you can."
   ]
  },
  {
   "cell_type": "code",
   "execution_count": null,
   "id": "0313c337-c4a6-4a8c-98c0-5d7ef938e0a1",
   "metadata": {},
   "outputs": [],
   "source": []
  }
 ],
 "metadata": {
  "kernelspec": {
   "display_name": "Python 3",
   "language": "python",
   "name": "python3"
  },
  "language_info": {
   "codemirror_mode": {
    "name": "ipython",
    "version": 3
   },
   "file_extension": ".py",
   "mimetype": "text/x-python",
   "name": "python",
   "nbconvert_exporter": "python",
   "pygments_lexer": "ipython3",
   "version": "3.9.5"
  },
  "widgets": {
   "application/vnd.jupyter.widget-state+json": {
    "state": {},
    "version_major": 2,
    "version_minor": 0
   }
  }
 },
 "nbformat": 4,
 "nbformat_minor": 5
}
