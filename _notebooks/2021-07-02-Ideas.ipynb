{
 "cells": [
  {
   "cell_type": "markdown",
   "id": "24170430-323d-458c-b9bb-1a102bd1aae0",
   "metadata": {},
   "source": [
    "# Ideas for research\n",
    "> This post is about ideas based on articles or web pages for more researches\n",
    "\n",
    "- toc: true\n",
    "- branch: master\n",
    "- badges: true\n",
    "- comments: true\n",
    "- categories: [idea, research]\n",
    "- image: images/idea.jpg\n",
    "- hide: false"
   ]
  },
  {
   "cell_type": "markdown",
   "id": "0435836e-e907-4cad-ab11-11b846034666",
   "metadata": {},
   "source": [
    "1- Carbon dioxide emission plumes from a large power station detected from space https://eo4society.esa.int/2021/06/14/carbon-dioxide-emission-plumes-from-a-large-power-station-detected-from-space/"
   ]
  },
  {
   "cell_type": "code",
   "execution_count": null,
   "id": "d3fdf048-cf71-4f5f-b599-9fb325af3760",
   "metadata": {},
   "outputs": [],
   "source": []
  }
 ],
 "metadata": {
  "kernelspec": {
   "display_name": "Python 3",
   "language": "python",
   "name": "python3"
  },
  "language_info": {
   "codemirror_mode": {
    "name": "ipython",
    "version": 3
   },
   "file_extension": ".py",
   "mimetype": "text/x-python",
   "name": "python",
   "nbconvert_exporter": "python",
   "pygments_lexer": "ipython3",
   "version": "3.9.5"
  }
 },
 "nbformat": 4,
 "nbformat_minor": 5
}
