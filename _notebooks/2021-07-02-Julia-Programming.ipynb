{
 "cells": [
  {
   "cell_type": "markdown",
   "id": "3cd6438c-af15-4baf-b12d-a55178ca2261",
   "metadata": {},
   "source": [
    "# Julia Programming\n",
    "> \"This post is about Julia programming\"\n",
    "\n",
    "- toc: true\n",
    "- branch: master\n",
    "- badges: true\n",
    "- comments: true\n",
    "- categories: [julia, programming]\n",
    "- image: images/julia.png\n",
    "- hide: false"
   ]
  },
  {
   "cell_type": "markdown",
   "id": "5b596469-30fb-4506-863e-9fcfb437cfcb",
   "metadata": {},
   "source": [
    "### Install Julia on Jupyterlab"
   ]
  },
  {
   "cell_type": "markdown",
   "id": "285eda81-4852-4e16-a4f4-cbfcad7dab2c",
   "metadata": {},
   "source": [
    "    sudo apt update\n",
    "    sudo apt install wget -y\n",
    "\n",
    "Download latest version of Julia from: https://julialang.org/downloads/  [Generic Linux on x86 - 64bit]\n",
    "    \n",
    "    tar -xvzf julia-1.6.1-linux-x86_64.tar.gz\n",
    "    sudo mv julia-1.6.1 /opt/julia\n",
    "    \n",
    "Add /opt/julia/bin directory to your PATH.\n",
    "\n",
    "    sudo gedit ~/.bashrc\n",
    "    export PATH=$PATH:/opt/julia/bin"
   ]
  },
  {
   "cell_type": "markdown",
   "id": "551351d9-27cc-48e6-bec3-8c6197bccebf",
   "metadata": {},
   "source": [
    "Source the bashrc file to update the settings.\n",
    "\n",
    "    source ~/.bashrc\n",
    "    \n",
    "Validate your current PATH settings.\n",
    "    \n",
    "    echo $PATH"
   ]
  },
  {
   "cell_type": "markdown",
   "id": "8ca59985-b6cf-4f36-bceb-d72ec60bfc98",
   "metadata": {},
   "source": [
    "Confirm julia binary file is executable from your shell terminal session.\n",
    "    \n",
    "    julia --version\n",
    "\n",
    "Start Julia shell by running the following command:\n",
    "\n",
    "    julia"
   ]
  },
  {
   "cell_type": "markdown",
   "id": "8842afc3-b3c7-48be-bb69-ed021e8d3e6b",
   "metadata": {},
   "source": [
    "Add Julia to Jupyter Notebook\n",
    "    \n",
    "    using Pkg\n",
    "    Pkg.add(\"IJulia\")"
   ]
  },
  {
   "cell_type": "markdown",
   "id": "0f575d97-21d9-4b42-ae07-05f23f27a1b7",
   "metadata": {},
   "source": [
    "Launch Jupyterlab and open Julia"
   ]
  },
  {
   "cell_type": "markdown",
   "id": "715ad82c-6e8a-446c-bc8f-a4b4bb5a753c",
   "metadata": {},
   "source": [
    "## Courses"
   ]
  },
  {
   "cell_type": "markdown",
   "id": "b9fece66-cf4e-4680-b39c-23dce36710c7",
   "metadata": {},
   "source": [
    "-Free Course https://juliaacademy.com/p/julia-programming-for-nervous-beginners  [My order ID: 87188600] [vpn]\n",
    "\n",
    "-Tutorials https://julialang.org/learning/tutorials/\n",
    "\n",
    "-From zero to Julia! https://techytok.com/from-zero-to-julia/"
   ]
  },
  {
   "cell_type": "code",
   "execution_count": null,
   "id": "38c1e68f-90cf-4d07-9fd6-c9e5b1470ece",
   "metadata": {},
   "outputs": [],
   "source": []
  }
 ],
 "metadata": {
  "kernelspec": {
   "display_name": "Python 3",
   "language": "python",
   "name": "python3"
  },
  "language_info": {
   "codemirror_mode": {
    "name": "ipython",
    "version": 3
   },
   "file_extension": ".py",
   "mimetype": "text/x-python",
   "name": "python",
   "nbconvert_exporter": "python",
   "pygments_lexer": "ipython3",
   "version": "3.9.5"
  }
 },
 "nbformat": 4,
 "nbformat_minor": 5
}
