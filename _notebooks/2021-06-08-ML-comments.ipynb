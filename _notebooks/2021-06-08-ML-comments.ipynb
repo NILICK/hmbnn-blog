{
 "cells": [
  {
   "cell_type": "markdown",
   "id": "61fa33cb-c6c6-4ed4-bc0f-857969e55670",
   "metadata": {},
   "source": [
    "# Machine Learning with Python\n",
    "> This post is about Machine Learning using Python\n",
    "\n",
    "- toc: true\n",
    "- branch: master\n",
    "- badges: true\n",
    "- comments: true\n",
    "- categories: [machine learning, python, course]\n",
    "- image: images/Machine-Learning-Python.jpg\n",
    "- hide: false"
   ]
  },
  {
   "cell_type": "markdown",
   "id": "54b0ab45-bef7-4547-b158-e93064a983d6",
   "metadata": {},
   "source": [
    "(Ref: https://machinelearningmastery.com)"
   ]
  },
  {
   "cell_type": "markdown",
   "id": "3bb3306a-3e41-474e-933a-35c9ad03f00a",
   "metadata": {},
   "source": [
    " Machine learning is broken down into a 5-step process:\n",
    " \n",
    " \n",
    "    Step 1: Adjust Mindset. Believe you can practice and apply machine learning.\n",
    "        What is Holding you Back From Your Machine Learning Goals?\n",
    "        Why Machine Learning Does Not Have to Be So Hard\n",
    "        How to Think About Machine Learning\n",
    "        Find Your Machine Learning Tribe\n",
    "        \n",
    "    Step 2: Pick a Process. Use a systemic process to work through problems.\n",
    "        Applied Machine Learning Process\n",
    "        \n",
    "    Step 3: Pick a Tool. Select a tool for your level and map it onto your process.\n",
    "        Beginners: Weka Workbench.\n",
    "        Intermediate: Python Ecosystem.\n",
    "        Advanced: R Platform.\n",
    "        Best Programming Language for Machine Learning\n",
    "        \n",
    "    Step 4: Practice on Datasets. Select datasets to work on and practice the process.\n",
    "        Practice Machine Learning with Small In-Memory Datasets\n",
    "        Tour of Real-World Machine Learning Problems\n",
    "        Work on Machine Learning Problems That Matter To You\n",
    "        \n",
    "    Step 5: Build a Portfolio. Gather results and demonstrate your skills.\n",
    "        Build a Machine Learning Portfolio\n",
    "        Get Paid To Apply Machine Learning\n",
    "        Machine Learning For Money\n"
   ]
  },
  {
   "cell_type": "markdown",
   "id": "b53bb917-4c7c-488f-b859-6126dec66236",
   "metadata": {},
   "source": [
    "## __What Is Holding You Back From Your Machine Learning Goals?__"
   ]
  },
  {
   "cell_type": "markdown",
   "id": "090e473a-6856-4418-bd95-a8adf02c56fc",
   "metadata": {},
   "source": [
    "The first question I ask them is what is stopping them from getting started?\n",
    "\n",
    "In this post, I want to touch on some self-limiting beliefs I see crop up in my email exchanges and discussions with coaching students.\n",
    "\n"
   ]
  },
  {
   "cell_type": "markdown",
   "id": "6ec7fa1f-ad28-4ef9-bd99-4bd2ea6603e4",
   "metadata": {},
   "source": [
    "## _Self-Limiting Belief_"
   ]
  },
  {
   "cell_type": "markdown",
   "id": "025200c8-9a43-4da4-a7be-e682da46f225",
   "metadata": {},
   "source": [
    "A self-limiting belief is something that you assume to be true that is limiting your progress. You presuppose something about yourself or about the thing you want to achieve. The problem is you hold that belief to be true and you don’t question it.\n",
    "\n",
    "3 types of self-limiting\n",
    "\n",
    "\n",
    "- __If-then Beliefs:__ e.g. If I get started in machine learning, I will fail because I am not good enough.\n",
    "- __Universal Beliefs:__ e.g. All Data Scientists have a Ph.D. and are mathematics rock gods.\n",
    "- __Personal and Self-Esteem Beliefs:__ e.g. I’m not good enough to be a machine learner.\n"
   ]
  },
  {
   "cell_type": "markdown",
   "id": "bbf44df0-190d-4469-bae9-2d5bf3776942",
   "metadata": {},
   "source": [
    "## _Waiting To Get Started_"
   ]
  },
  {
   "cell_type": "markdown",
   "id": "674c9859-1d8c-40e8-b497-b8574c53a8c1",
   "metadata": {},
   "source": [
    "I think the biggest class of limiting belief I see is the belief that you cannot get started until you have some specific prior knowledge.\n",
    "\n",
    "The problem is that the prior knowledge you think you need is either not required or is so vast in scope that even experts in that subject don’t know it all.\n",
    "\n",
    "For example: “I need to KNOW statistics“. See how ambiguous that belief is. How much statistics, what areas of statistics and why do you need to know them before you can start your investigation into machine learning?\n",
    "\n",
    "I can’t get into machine learning until…\n",
    "\n",
    "    …I get a degree or higher degree\n",
    "    …I complete a course\n",
    "    …I am good at linear algebra\n",
    "    …I know statistics and probability theory\n",
    "    …I have mastered the R programming language\n"
   ]
  },
  {
   "cell_type": "markdown",
   "id": "ad0ade81-4150-4f51-b507-5861c8986daa",
   "metadata": {},
   "source": [
    "__You can get started in machine learning today, right now. Run your first classifier in 5 minutes. You’re in. Now, start blocking out what it is from machine learning that you really want?__"
   ]
  },
  {
   "cell_type": "markdown",
   "id": "756914b2-a8d7-40d1-bd48-4a835f03da3a",
   "metadata": {},
   "source": [
    "## _Awaiting Perfect Conditions_"
   ]
  },
  {
   "cell_type": "markdown",
   "id": "6af80e67-fde8-4784-b33d-09e84e75ca6c",
   "metadata": {},
   "source": [
    "Another class of __self-limiting belief__ is where you are __waiting__ for the perfect environment or conditions before taking the leap. Things will never be perfect, leap and make a mess, then leap again.\n",
    "\n",
    "I can’t get started in machine learning because…\n",
    "\n",
    "    …I don’t have the time right now\n",
    "    …I don’t have a fast CPU, GPU or a bazillion MB of RAM\n",
    "    …I am just a student right now\n",
    "    …I am not a good programmer at the moment\n",
    "    …I am very busy at work right now\n"
   ]
  },
  {
   "cell_type": "markdown",
   "id": "4ea3a2c9-a13e-4fb2-8b1c-7a8f180eaed9",
   "metadata": {},
   "source": [
    "__It does take a lot of time and effort to get good at machine learning, but not all at once and not all at the beginning.__"
   ]
  },
  {
   "cell_type": "markdown",
   "id": "5c684828-69cb-4383-b3f7-5797a7a67ffc",
   "metadata": {},
   "source": [
    "You can make good progress with __a few hours a week, or tens of minutes per day__. There are plenty of __small snack-sized tasks__ you could take on to get started in machine learning. \n",
    "\n",
    "You can get started, __it is just going to take some sacrifice__, like all good things in life."
   ]
  },
  {
   "cell_type": "markdown",
   "id": "37296cdd-4a9a-4019-bc39-83ca854bda51",
   "metadata": {},
   "source": [
    "### _Struggling or Tried and Failed_"
   ]
  },
  {
   "cell_type": "markdown",
   "id": "7105ea8a-2043-4f83-ac52-34874aa53d8c",
   "metadata": {},
   "source": [
    "Machine learning is hard but no harder than other technical skills like programming. \n",
    "__It takes persistence and dedication.__ It’s applied and empirical and demands trial and error."
   ]
  },
  {
   "cell_type": "markdown",
   "id": "34b2da0c-1a82-4b25-91ff-4b6519730084",
   "metadata": {},
   "source": [
    "I can’t get into machine learning because…\n",
    "\n",
    "    …I feel overwhelmed\n",
    "    …I don’t understand x\n",
    "    …I will never be as good as y\n",
    "    …I don’t know what to do next\n",
    "    …I can’t get my program to work\n",
    "\n",
    "__My advice is to cut scope or change direction.__"
   ]
  },
  {
   "cell_type": "markdown",
   "id": "955712ba-c07a-40ee-acb2-82fe51b3402c",
   "metadata": {},
   "source": [
    "### _What is your self-limiting belief?_"
   ]
  },
  {
   "cell_type": "markdown",
   "id": "628670b0-561c-43ee-a32a-1eb19148287c",
   "metadata": {},
   "source": [
    "Do you have a self-limiting belief? Think about it. What are your goals and why do you think you are not there yet?\n",
    "\n",
    "Do you have a goal to get into machine learning, to become a data scientist or a machine learning engineer but have not taken the first step?\n",
    "\n",
    "    Are you waiting to acquire some perfect set of skills before getting started?\n",
    "    Are you waiting for the perfect conditions before getting started?\n",
    "    Have you taken a first step and abandoned the trail?\n",
    "    Where do you want to be and what are you struggling with?"
   ]
  },
  {
   "cell_type": "markdown",
   "id": "a0240e8f-1d0c-4f32-9b01-7ba147c8e21b",
   "metadata": {},
   "source": [
    "## __What If I Am Not Good At Mathematics__"
   ]
  },
  {
   "cell_type": "markdown",
   "id": "20db7106-ccbd-4686-9d77-3a512c0ba02e",
   "metadata": {},
   "source": [
    "Problen: The think that mathematicians are smarter than they are and that they cannot excel in a subject until they “know the math”. \n",
    "\n",
    "I have seen this first hand, and I have seen it stop people from getting started.\n",
    "\n",
    "__In this post, I want to convince you that you can get started and make great progress in machine learning without being strong in mathematics.__"
   ]
  },
  {
   "cell_type": "markdown",
   "id": "66e3e56e-d454-4db7-955c-2ff973bf724d",
   "metadata": {},
   "source": [
    "### _Get Started and Learn by Doing_"
   ]
  },
  {
   "cell_type": "markdown",
   "id": "0aaec519-8f6b-4ad2-96cb-3b7493556241",
   "metadata": {},
   "source": [
    "I didn’t learn boolean logic before I started programming.\n",
    "\n",
    "I followed an empirical path that involved __trial and error__. It is slow and I wrote a lot of bad code, __but__ I was passionately interested and I could see progress."
   ]
  },
  {
   "cell_type": "markdown",
   "id": "84938108-f061-4c42-a70b-f8e861f93d87",
   "metadata": {},
   "source": [
    "I hunted for conceptual and practical tools I could use to overcome the limitations __I was actually experiencing. This was a powerful learning tool.__"
   ]
  },
  {
   "cell_type": "markdown",
   "id": "9da4891e-977a-4da7-bfaa-597f4aaa612b",
   "metadata": {},
   "source": [
    "### _The Danger Zone_"
   ]
  },
  {
   "cell_type": "markdown",
   "id": "e6a98d3c-3205-4359-9588-355c0ac22736",
   "metadata": {},
   "source": [
    "__I like it when my programs don’t work.__ It means I have to roll up my sleeves and really understand what is going on."
   ]
  },
  {
   "cell_type": "markdown",
   "id": "d44135fe-9492-4298-8bd9-6c314f5ba657",
   "metadata": {},
   "source": [
    "You can get a long way by copy and pasting code without really understanding it. __You only need to understand blocks of code as functional units that do a thing you need done.__ Glue enough of them together and you have a program that solves the problem you need solved."
   ]
  },
  {
   "cell_type": "markdown",
   "id": "21b40b61-a919-4779-9e24-6178b133a802",
   "metadata": {},
   "source": [
    "This __empirical hackery__ is a great way to learn fast, but __a terrifying way__ to build production systems."
   ]
  },
  {
   "cell_type": "markdown",
   "id": "7faeb62a-c994-4454-ac75-123fde93a187",
   "metadata": {},
   "source": [
    "This is an important distinction to make. The often spoken of __“danger zone”__ is when systems built from empirical learning are made operational and the author does not really know how it works or what the results actually mean."
   ]
  },
  {
   "cell_type": "markdown",
   "id": "4a72b4db-ac5e-4fca-950c-11bc48b83ffa",
   "metadata": {},
   "source": [
    "### _The Technician_"
   ]
  },
  {
   "cell_type": "markdown",
   "id": "108ef5e6-549e-4be8-a10b-4a3fa8016b23",
   "metadata": {},
   "source": [
    "You can get started in machine learning today, __empirically__. Three options available to you are:\n",
    "\n",
    "   1. Learn to drive a tool like scikit-learn.\n",
    "   2. Use libraries that provide algorithms and write little programs\n",
    "   3. Implement algorithms yourself from tutorials and books.\n"
   ]
  },
  {
   "cell_type": "markdown",
   "id": "8e4201fb-5296-4993-a8c3-3d53f84844ca",
   "metadata": {},
   "source": [
    "This can be the path of the technician __from beginner to intermediate__ that is learning the mathematics required for a technique, just-in-time."
   ]
  },
  {
   "cell_type": "markdown",
   "id": "adfd2501-7d17-46ba-8e9e-b5864563171a",
   "metadata": {},
   "source": [
    "Define __small problems__, solve them methodically and present the results of what you have learned on your blog.\n",
    "\n",
    "There will be interesting algorithms that you will want to know more about, such as __what a particular parameter actually does when you change it or how to get better results from a particular algorithm.__\n",
    "\n",
    "This will drive you to want (need) to understand __how that technique really works and what it is doing.__\n",
    "\n",
    "You can remain the empiricist. I call this the path of the technician.\n",
    "\n",
    "You can __build up an empirical intuition of which methods__ to use and how to use them. You can also learn just enough algebra to be able to read algorithm descriptions and turn them into code.\n",
    "\n",
    "There is a path here for the __skilled technician__ to create tools, plug-in’s and even operational systems that use machine learning."
   ]
  },
  {
   "cell_type": "markdown",
   "id": "a96eeb4d-170f-4d98-a83c-a1502a62c31a",
   "metadata": {},
   "source": [
    "The __technician is contrasted to the theoretician__ at the other end of the scale. The theoretician can:\n",
    "\n",
    "    1. Internalize existing methods.\n",
    "    2. Propose extensions to existing methods.\n",
    "    3. Devise entirely new methods.\n",
    "\n",
    "The __theoretician__ may be able to demonstrate the capability of a method in the abstract, but is likely __insufficiently skilled to turn the methods into code__ beyond prototype demonstration systems at best."
   ]
  },
  {
   "cell_type": "markdown",
   "id": "b368ae0c-5860-4245-960d-ebe9052bbba6",
   "metadata": {},
   "source": [
    "___You can learn as little or as much mathematics as you like, just in time. Focus on your strengths and be honest about your limitations.___"
   ]
  },
  {
   "cell_type": "markdown",
   "id": "9a0e11ed-e218-4c5d-b115-24aa8eab718c",
   "metadata": {},
   "source": [
    "### _Mathematics is Critical, Later_"
   ]
  },
  {
   "cell_type": "markdown",
   "id": "2f0d947f-138d-4c51-a405-28a2ab48aa36",
   "metadata": {},
   "source": [
    "If you have to learn linear algebra __just-in-time__, why not learn it fully more completely up front and understand the machine learning methods at this deep level from the beginning?\n",
    "\n",
    "__This is certainly an option__, perhaps the most efficient option which is why it is the path used to teach in university. It’s just not the only option available to you.\n",
    "\n",
    "Just like learning to program by starting with logic and abstract concepts, internalizing machine learning theory may __not be the most efficient way for you to get started.__"
   ]
  },
  {
   "cell_type": "markdown",
   "id": "642319d7-839f-43e6-b3b8-852768f19f59",
   "metadata": {},
   "source": [
    "___You learned that the technician can learn the mathematical representations and descriptions of machine learning algorithms just-in-time. You also learned that the danger zone for the technician is overconfidence and the risk of putting systems into production that are poorly understood.___"
   ]
  },
  {
   "cell_type": "markdown",
   "id": "2f8fa833-f244-4951-ad82-f1cbe1e76496",
   "metadata": {},
   "source": [
    "## __Why Machine Learning Does Not Have to Be So Hard?__"
   ]
  },
  {
   "cell_type": "markdown",
   "id": "d0784b58-58be-4f8e-94e4-116f66fb2325",
   "metadata": {},
   "source": [
    "Useful skills we use every day like reading, driving, and programming were not learned this way and were in fact learned using an inverted top-down approach. \n",
    "\n",
    "__This top-down approach can be used to learn technical subjects directly such as machine learning, which can make you a lot more productive a lot sooner, and be a lot of fun.__"
   ]
  },
  {
   "cell_type": "markdown",
   "id": "d293f149-fa2c-4148-8ac7-dd5a0e51a851",
   "metadata": {},
   "source": [
    "In contrast, technical topics like mathematics, physics, and even computer science are taught using a __bottom-up approach__."
   ]
  },
  {
   "cell_type": "markdown",
   "id": "41eb8e5f-d833-406e-8a0b-6debf40b6f0b",
   "metadata": {},
   "source": [
    "You will know:\n",
    "\n",
    "    - The bottom-up approach used in universities to teach technical subjects and the problems with it.\n",
    "    - How people learn to read, drive, and program in a top-down manner and how the top-down approach works.\n",
    "    - The frame of machine learning and even mathematics using the top-down approach to learning and how to start to make rapid progress as a practitioner.\n"
   ]
  },
  {
   "cell_type": "markdown",
   "id": "410a80eb-3649-4bbc-93ca-31952141bf54",
   "metadata": {},
   "source": [
    "This is an __important blog post__, because I think it can really help to shake you out of the bottom-up, university-style way of learning machine learning.\n",
    "\n",
    "This post is divided into seven parts; they are:\n",
    "\n",
    "    1. Bottom-Up Learning\n",
    "    2. Learning to Read\n",
    "    3. Learning to Drive\n",
    "    4. Learning to Code\n",
    "    5. Top-Down Learning\n",
    "    6. Learn Machine Learning\n",
    "    7. Learning Mathematics\n"
   ]
  },
  {
   "cell_type": "markdown",
   "id": "4ab19fc3-933f-4543-96ce-cac21509c237",
   "metadata": {},
   "source": [
    "### _Bottom-Up Learning_"
   ]
  },
  {
   "cell_type": "markdown",
   "id": "989bc18b-2eff-40f8-b4c1-2977d759a01f",
   "metadata": {},
   "source": [
    "Think back to __high-school or undergraduate studies__ and the fundamental fields you may have worked through: examples such as: Mathematics, as mentioned, Biology, Chemistry etc.\n",
    "\n",
    "Think about how the material was laid out, __week-by-week, semester-by-semester, year-by-year. Bottom-up, logical progression.__"
   ]
  },
  {
   "cell_type": "markdown",
   "id": "a29d26dc-a7c8-4f86-af9e-b09f82e7f4ea",
   "metadata": {},
   "source": [
    "__The problem is, the logical progression through the material may not be the best way to learn the material in order to be productive.__"
   ]
  },
  {
   "cell_type": "markdown",
   "id": "a9ad6cac-b067-4e4e-9c85-cdc298a51f2b",
   "metadata": {},
   "source": [
    "We are not robots executing a learning program. We are emotional humans that need motivation, interest, attention, encouragement, and results.\n",
    "\n",
    "If you have completed __a technical subject__, think back to how to you actually learned it. __I bet it was not bottom-up.__"
   ]
  },
  {
   "cell_type": "markdown",
   "id": "7df83ff6-24f2-437c-ab22-b76b2ab718e6",
   "metadata": {},
   "source": [
    "#### _Learning to Drive_\n",
    "\n",
    "I remember hiring a driving instructor and doing driving lessons. Every single lesson was practical, in the car, practicing the skill I was required to master, driving the vehicle in traffic.\n",
    "\n",
    "Here’s what I did not study or discuss with my driving instructor:\n",
    "\n",
    "    The history of the automobile.\n",
    "    The theory of combustion engines.\n",
    "    The common mechanical faults in cars.\n",
    "    The electrical system of the car.\n",
    "    The theory of traffic flows.\n",
    "\n",
    "In fact, I never expect to learn these topics. I have zero need or interest and they will not help me realize the thing I want and need, which is safe and easy personal mobility.\n",
    "\n",
    "If the car breaks, I’ll call an expert."
   ]
  },
  {
   "cell_type": "markdown",
   "id": "5f129e7b-d8e0-40c9-80a6-188413da88f4",
   "metadata": {},
   "source": [
    "#### _Learning to Code_\n",
    "\n",
    "I started programming without any idea of what coding or software engineering meant."
   ]
  },
  {
   "cell_type": "markdown",
   "id": "b25e672f-e445-4bf2-9c0d-76b561918e2d",
   "metadata": {},
   "source": [
    "### _Top-Down Learning_"
   ]
  },
  {
   "cell_type": "markdown",
   "id": "d1e3951e-3e6e-43ee-b5a7-718765ea408f",
   "metadata": {},
   "source": [
    "The __bottom-up__ approach is not just a common way for teaching technical topics; it looks like the only way.\n",
    "\n",
    "The designers of university courses, masters of their subject area, are trying to help. They are laying everything out to give you the logical progression through the material that they think will get you to the skills and capabilities that you require (hopefully).\n",
    "\n",
    "And as I mentioned, it can work for some people.\n",
    "\n",
    "__It does not work for me, and I expect it does not work for you.__"
   ]
  },
  {
   "cell_type": "markdown",
   "id": "f44ae9e9-270a-4112-b450-81b404935c2f",
   "metadata": {},
   "source": [
    "__Don’t start with definitions and theory. Instead, start by connecting the subject with the results you want and show how to get results immediately.__\n",
    "\n",
    "Lay out a program that focuses on practicing this process of getting results, __going deeper into some areas as needed__, but always in the context of the result they require."
   ]
  },
  {
   "cell_type": "markdown",
   "id": "07b720b6-d0a8-4c52-96ae-fa8e52a67081",
   "metadata": {},
   "source": [
    "___Be careful not to use traditional ways of thinking or comparison if you take this path.___"
   ]
  },
  {
   "cell_type": "markdown",
   "id": "9777326c-f3b4-4f18-9b28-2337d030e565",
   "metadata": {},
   "source": [
    "\n",
    "    It is iterative:       Topics are revisited many times with deeper understanding.\n",
    "    It is imperfect:       Results may be poor in the beginning, but improve with practice.\n",
    "    It requires discovery: The learner must be open to continual learning and discoverery.\n",
    "    It requires ownership: The learner is responsible for improvement.\n",
    "    It requires curiosity: The learner must pay attention to what interests them and follow it.\n"
   ]
  },
  {
   "cell_type": "markdown",
   "id": "b6408721-f29c-4693-8203-5a2585449f58",
   "metadata": {},
   "source": [
    "### _Learning Machine Learning_"
   ]
  },
  {
   "cell_type": "markdown",
   "id": "ae662473-5829-47f8-9420-e5a0701a8a66",
   "metadata": {},
   "source": [
    "Are you following a top-down type approach but are riddled with guilt, math envy, and insecurities?\n",
    "\n",
    "You are not alone; I see this every single day in helping beginners on this website.\n",
    "\n",
    "To connect the dots for you, __I strongly encourage you to study machine learning using the top-down approach.__\n",
    "\n",
    "    Don’t start with precursor math.\n",
    "    Don’t start with machine learning theory.\n",
    "    Don’t code every algorithm from scratch.\n"
   ]
  },
  {
   "cell_type": "markdown",
   "id": "fa2a7276-96f2-4990-ac3b-7237161e9df0",
   "metadata": {},
   "source": [
    "__1- Start by learning how to work through very simple predictive modeling problems using a fixed framework with free and easy-to-use open source tools.__\n",
    "\n",
    "__2- Practice on many small projects and slowly increase their complexity.__\n",
    "\n",
    "__3- Show your work by building a public portfolio.__"
   ]
  },
  {
   "cell_type": "markdown",
   "id": "24255c3f-dad1-41d7-9d4c-db9eed96a3e4",
   "metadata": {},
   "source": [
    "__You can learn machine learning by practicing predictive modeling, not by studying math and theory.__\n",
    "\n",
    "Not only is this the way I learned and continue to practice machine learning, but it has helped tens of thousands of my students (and the many millions of readers of this blog)."
   ]
  },
  {
   "cell_type": "markdown",
   "id": "6237c8bb-0577-4598-9e60-ac8c8e7b54b5",
   "metadata": {},
   "source": [
    "__A top-down approach might be to:__\n",
    "\n",
    "    - Implement the method in a high-level library such as scikit-learn and get a result.\n",
    "    - Implement the method in a lower-level library such as NumPy/SciPy and reproduce the result.\n",
    "    - Implement the method directly using matrices and matrix operations in NumPy or Octave.\n",
    "    - Study and explore the matrix arithmetic operations involved.\n",
    "    - Study and explore the matrix decomposition operations involved.\n",
    "    - Study methods for approximating the eigendecomposition of a matrix.\n",
    "    And so on…\n"
   ]
  },
  {
   "cell_type": "markdown",
   "id": "6eff0309-108b-43f9-b303-ced4fa3b2e8a",
   "metadata": {},
   "source": [
    "The goal provides the context and you can let your curiosity define the depth of study.\n",
    "\n",
    "Painted this way, studying math is no different to studying any other topic in programming, machine learning, or other technical subjects."
   ]
  },
  {
   "cell_type": "markdown",
   "id": "6e5862a2-6b2a-4064-a7de-7f0229c2d10a",
   "metadata": {},
   "source": [
    "\n",
    "    - The bottom-up approach used in universities to teach technical subjects and the problems with it.\n",
    "    - How people learn to read, drive, and program in a top-down manner and how the top-down approach works.\n",
    "    - The frame of machine learning and even mathematics using the top-down approach to learning and how to start to make rapid progress as a practitioner.\n"
   ]
  },
  {
   "cell_type": "markdown",
   "id": "89ee614e-5ff9-4e94-8150-9635dc8a4e7d",
   "metadata": {},
   "source": [
    "## __How to Think About Machine Learning__"
   ]
  },
  {
   "cell_type": "markdown",
   "id": "88967090-5649-4a63-aba1-cb1386d94aeb",
   "metadata": {},
   "source": [
    "You can achieve impressive results with machine learning and find solutions to very challenging problems. \n",
    "\n",
    "But this is __only a small__ corner of the broader field of machine learning often __called predictive modeling or predictive analytics__.\n",
    "\n",
    "In this post, you will discover _how to change the way you think about machine learning in order to best serve you as a machine learning practitioner._\n",
    "\n",
    "\n",
    "    - What machine learning is and how it relates to artificial intelligence and statistics.\n",
    "    - The corner of machine learning that you should focus on.\n",
    "    - How to think about your problem and the machine learning solution to your problem.\n"
   ]
  },
  {
   "cell_type": "markdown",
   "id": "795d9fc3-efdd-483f-8ab1-27759caab686",
   "metadata": {},
   "source": [
    "__Machine learning is a large field of study, and not all much of it is going to be relevant to you if you’re focused on solving a problem.__"
   ]
  },
  {
   "cell_type": "markdown",
   "id": "9c47bf77-e214-46e0-8956-adc9ca6c754f",
   "metadata": {},
   "source": [
    "### __What is Machine Learning?__"
   ]
  },
  {
   "cell_type": "markdown",
   "id": "54cbe2fa-500d-44d7-b50d-9cf718b24cc8",
   "metadata": {},
   "source": [
    "Machine learning is a field of computer science concerned with programs that learn.\n",
    "\n",
    "There are many types of learning, many types of feedback to learn from, and many things that can be learned.\n",
    "\n",
    "This could encompass diverse types of learning, such as:\n",
    "\n",
    "    - Developing code to investigate how populations of organisms “learn” to adapt to their environment over evolutionary time.\n",
    "    - Developing code to investigate how one neuron in the brain “learns” in response to stimulus from other neurons.\n",
    "    - Developing code to investigate how ants “learn” the optimal path from their home to their food source.\n",
    "Another case that you may be more familiar with is:\n",
    "\n",
    "    - Developing code to investigate how to “learn” patterns in historical data.\n",
    "\n",
    "This is less glamorous, but is the basis of the small corner of machine learning in which we as practitioners are deeply interested."
   ]
  },
  {
   "cell_type": "markdown",
   "id": "4e94125a-8370-4585-be8c-94c6961ad456",
   "metadata": {},
   "source": [
    "### __What About Statistics?__"
   ]
  },
  {
   "cell_type": "markdown",
   "id": "1c9b17d3-4ad8-4a21-9bef-f6b54c128974",
   "metadata": {},
   "source": [
    "Statistics, or applied statistics with computers, is a sub-field of mathematics that is concerned with __describing and understanding the relationships in data__."
   ]
  },
  {
   "cell_type": "markdown",
   "id": "b9d028dd-36f7-430d-bfb9-0178cd171cc0",
   "metadata": {},
   "source": [
    "This could encompass diverse types of learning such as:\n",
    "\n",
    "    - Developing models to summarize the distribution of a variable.\n",
    "    - Developing models to best characterize the relationship between two variables.\n",
    "    - Developing models to test the similarity between two populations of observations.\n",
    "\n",
    "__It also overlaps with the corner of machine learning interested in learning patterns in data.__\n",
    "\n",
    "Many methods used for understanding data in statistics can be used in machine learning to __learn patterns in data__. These tasks could be called machine learning or applied statistics."
   ]
  },
  {
   "cell_type": "markdown",
   "id": "cc19c915-e74c-4db2-bf5a-a996ca3be113",
   "metadata": {},
   "source": [
    "### __Your Machine Learning__"
   ]
  },
  {
   "cell_type": "markdown",
   "id": "6b59cfcf-d749-47a6-b8eb-1918edab72d7",
   "metadata": {},
   "source": [
    "Machine learning is a large field of study, and it can help you solve specific problems.\n",
    "\n",
    "__But you don’t need to know about all of it.__\n",
    "\n"
   ]
  },
  {
   "cell_type": "markdown",
   "id": "1ea26daf-76cc-4fe8-b2e4-2aae2b7859f9",
   "metadata": {},
   "source": [
    "In fact, when it comes to learning relationships in data:\n",
    "\n",
    "    - You’re not investigating the capabilities of an algorithm.\n",
    "    - You’re not developing an entirely new theory or algorithm.\n",
    "    - You’re not extending an existing machine learning algorithm to new cases.\n"
   ]
  },
  {
   "cell_type": "markdown",
   "id": "9adde75d-48bf-4da2-9b0a-b7c1dbe35c55",
   "metadata": {},
   "source": [
    "__So what parts of machine learning do you need to focus on?__\n",
    "\n",
    "I think there are two ways to think about machine learning:\n",
    "\n",
    "    - In terms of the problem you are trying to solve.\n",
    "    - In terms of the solution you require.\n"
   ]
  },
  {
   "cell_type": "markdown",
   "id": "c8f687a4-7ee5-45c4-8b50-46fa6548d1b7",
   "metadata": {},
   "source": [
    "__Your Machine Learning Problem__"
   ]
  },
  {
   "cell_type": "markdown",
   "id": "ff56afc3-8aad-43ea-bdf0-8911ab1656ac",
   "metadata": {},
   "source": [
    "Your problem can best be described as the following:\n",
    "\n",
    "    Find a model or procedure that makes best use of historical data comprised of inputs and outputs in order to skillfully predict outputs given new and unseen inputs in the future."
   ]
  },
  {
   "cell_type": "markdown",
   "id": "4b0ccf44-9f1e-4cfe-b7b4-4b21829c98d2",
   "metadata": {},
   "source": [
    "Based on this description:\n",
    "        \n",
    "    It discards entire sub-fields of machine learning, such as unsupervised learning, to focus on one type of learning called supervised learning"
   ]
  },
  {
   "cell_type": "markdown",
   "id": "074e96cc-a1c9-4d4e-9cdf-bb31a08dabbd",
   "metadata": {},
   "source": [
    "__Your Machine Learning Solution__"
   ]
  },
  {
   "cell_type": "markdown",
   "id": "cd07ba4e-0960-4b0f-88f3-cb3971a4e31e",
   "metadata": {},
   "source": [
    "The solution you require is best described as the following:\n",
    "\n",
    "    A model or procedure that automatically creates the most likely approximation of the unknown underlying relationship between inputs and associated outputs in historical data."
   ]
  },
  {
   "cell_type": "markdown",
   "id": "1f4a1226-ce3c-4524-bf24-c3dff7f1b95a",
   "metadata": {},
   "source": [
    "In fact, problems of this type resist top-down hand-coded solutions. If you could sit down and write some if-statements to solve your problem, you would not need a machine learning solution. It would be a programming problem.\n",
    "\n",
    "___The type of machine learning methods that you need will learn the relationship between the inputs and outputs in your historical data.___"
   ]
  },
  {
   "cell_type": "markdown",
   "id": "79650a85-4f1f-4037-b230-6fb2053eba26",
   "metadata": {},
   "source": [
    "## __Applied Machine Learning Process__"
   ]
  },
  {
   "cell_type": "markdown",
   "id": "077af1f4-15dc-41e8-8dbd-a7eab67a3b66",
   "metadata": {},
   "source": [
    "Over time, working on applied machine learning problems ___you develop a pattern or process for quickly getting to good robust results.___\n",
    "\n",
    "Once developed, ___you can use this process again and again on project after project. The more robust and developed your process, the faster you can get to reliable results.___"
   ]
  },
  {
   "cell_type": "markdown",
   "id": "ce815d1c-7494-48dc-a80c-285d0453dc79",
   "metadata": {},
   "source": [
    "### __The skeleton of the process for working a machine learning problem__"
   ]
  },
  {
   "cell_type": "markdown",
   "id": "48f202c6-ea5e-42ae-b690-c05603f92047",
   "metadata": {},
   "source": [
    "This  can be as a __starting point or template__ on your next project"
   ]
  },
  {
   "cell_type": "markdown",
   "id": "d7286f55-a3a1-497f-ab18-c5229bb716d5",
   "metadata": {},
   "source": [
    "#### __5-step process__"
   ]
  },
  {
   "cell_type": "markdown",
   "id": "dc9fd389-80c4-46e6-9fd9-c0132beb2465",
   "metadata": {},
   "source": [
    "    \n",
    "    1. Define the Problem\n",
    "    2. Prepare Data\n",
    "    3. Spot Check Algorithms\n",
    "    4. Improve Results\n",
    "    5. Present Results\n"
   ]
  },
  {
   "cell_type": "markdown",
   "id": "47609ccd-a1e9-490c-8460-909c83257418",
   "metadata": {},
   "source": [
    "There is a lot of __flexibility in this process__.\n",
    "\n",
    "For example, the “prepare data” step is typically broken down into analyze data (summarize and graph) and prepare data (prepare samples for experiments)."
   ]
  },
  {
   "cell_type": "markdown",
   "id": "6b5b4541-11b6-4873-adc2-933791824c6c",
   "metadata": {},
   "source": [
    "It’s __a great big production line__ that I try to move through __in a linear manner.__\n",
    "\n",
    "The great thing in __using automated tools__ is that you __can go back a few steps__ (say from “Improve Results” back to “Prepare Data”) and insert a new transform of the dataset and __re-run experiments__ in the intervening steps ___to see what interesting results come out and how they compare to the experiments you executed before.___"
   ]
  },
  {
   "cell_type": "markdown",
   "id": "5cadc074-571b-4c76-b218-ca9ee6f411a3",
   "metadata": {},
   "source": [
    "___NOTE:___ The process I use has been adapted from the standard data mining process of knowledge discovery in databases (or KDD)."
   ]
  },
  {
   "cell_type": "code",
   "execution_count": null,
   "id": "6866c1e7-141a-49eb-9c44-6b4be9ed0f94",
   "metadata": {},
   "outputs": [],
   "source": []
  }
 ],
 "metadata": {
  "kernelspec": {
   "display_name": "Python 3",
   "language": "python",
   "name": "python3"
  },
  "language_info": {
   "codemirror_mode": {
    "name": "ipython",
    "version": 3
   },
   "file_extension": ".py",
   "mimetype": "text/x-python",
   "name": "python",
   "nbconvert_exporter": "python",
   "pygments_lexer": "ipython3",
   "version": "3.9.5"
  },
  "widgets": {
   "application/vnd.jupyter.widget-state+json": {
    "state": {},
    "version_major": 2,
    "version_minor": 0
   }
  }
 },
 "nbformat": 4,
 "nbformat_minor": 5
}
